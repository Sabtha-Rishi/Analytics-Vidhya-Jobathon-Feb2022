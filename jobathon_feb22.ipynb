{
  "nbformat": 4,
  "nbformat_minor": 0,
  "metadata": {
    "colab": {
      "name": "jobathon feb22.ipynb",
      "provenance": []
    },
    "kernelspec": {
      "name": "python3",
      "display_name": "Python 3"
    },
    "language_info": {
      "name": "python"
    }
  },
  "cells": [
    {
      "cell_type": "code",
      "execution_count": null,
      "metadata": {
        "id": "ORKa1NvV6bvs"
      },
      "outputs": [],
      "source": [
        "import pandas as pd\n",
        "import numpy as np\n",
        "from datetime import timedelta\n",
        "import time\n",
        "import pickle\n",
        "\n",
        "from sklearn.preprocessing import StandardScaler\n",
        "from sklearn.model_selection import train_test_split, GridSearchCV, cross_validate, RandomizedSearchCV\n",
        "from sklearn.neighbors import KNeighborsRegressor\n",
        "from sklearn.metrics import explained_variance_score, r2_score, mean_absolute_error, mean_squared_error\n",
        "from sklearn.preprocessing import MinMaxScaler, OneHotEncoder\n",
        "from sklearn.linear_model import LinearRegression, SGDRegressor, ElasticNet, Ridge\n",
        "\n",
        "from sklearn.svm import SVR\n",
        "from sklearn.tree import DecisionTreeRegressor\n",
        "from xgboost import XGBRegressor, XGBRFRegressor\n",
        "from sklearn.ensemble import RandomForestRegressor, GradientBoostingRegressor\n",
        "\n",
        "import tensorflow as tf\n",
        "from tensorflow import keras"
      ]
    },
    {
      "cell_type": "markdown",
      "source": [
        "# Preparation"
      ],
      "metadata": {
        "id": "3syVjoc-H0LZ"
      }
    },
    {
      "cell_type": "code",
      "source": [
        "train = pd.read_csv('train_0OECtn8.csv')\n",
        "test = pd.read_csv('/content/test_1zqHu22.csv')"
      ],
      "metadata": {
        "id": "3eCfdEAQ6q7p"
      },
      "execution_count": null,
      "outputs": []
    },
    {
      "cell_type": "code",
      "source": [
        "train['avg_cat_eng'] = train['category_id'].map(train.groupby('category_id')['engagement_score'].mean().to_dict())\n",
        "test['avg_cat_eng'] = test['category_id'].map(train.groupby('category_id')['engagement_score'].mean().to_dict())\n"
      ],
      "metadata": {
        "id": "YqNklIXA75Pv"
      },
      "execution_count": null,
      "outputs": []
    },
    {
      "cell_type": "code",
      "source": [
        "train['avg_prof_eng'] = train['profession'].map(train.groupby('profession')['engagement_score'].mean().to_dict())\n",
        "test['avg_prof_eng'] = test['profession'].map(train.groupby('profession')['engagement_score'].mean().to_dict())"
      ],
      "metadata": {
        "id": "OzYBgR08BTNo"
      },
      "execution_count": null,
      "outputs": []
    },
    {
      "cell_type": "code",
      "source": [
        "train['avg_gender_eng'] = train['gender'].map(train.groupby('gender')['engagement_score'].mean().to_dict())\n",
        "test['avg_gender_eng'] = test['gender'].map(train.groupby('gender')['engagement_score'].mean().to_dict())"
      ],
      "metadata": {
        "id": "Yb9Odec58UeA"
      },
      "execution_count": null,
      "outputs": []
    },
    {
      "cell_type": "code",
      "source": [
        "train['avg_user_eng'] = train['user_id'].map(train.groupby('user_id')['engagement_score'].mean().to_dict())\n",
        "test['avg_user_eng'] = test['user_id'].map(train.groupby('user_id')['engagement_score'].mean().to_dict())"
      ],
      "metadata": {
        "id": "zoa11SArFEru"
      },
      "execution_count": null,
      "outputs": []
    },
    {
      "cell_type": "code",
      "source": [
        "avg_category_prof_eng = train.groupby(['category_id','profession'])['engagement_score'].mean().to_dict()\n",
        "scores = []\n",
        "for x,y in zip(train['category_id'],train['profession']):\n",
        "    scores.append(avg_category_prof_eng[(x,y)])\n",
        "train['avg_category_prof_eng'] = scores\n",
        "\n",
        "\n",
        "scores = []\n",
        "for x,y in zip(test['category_id'],test['profession']):\n",
        "    scores.append(avg_category_prof_eng[(x,y)])\n",
        "test['avg_category_prof_eng'] = scores\n"
      ],
      "metadata": {
        "id": "FK95M1Fj94tv"
      },
      "execution_count": null,
      "outputs": []
    },
    {
      "cell_type": "code",
      "source": [
        "avg_category_gender_eng = train.groupby(['category_id','gender'])['engagement_score'].mean().to_dict()\n",
        "scores = []\n",
        "for x,y in zip(train['category_id'],train['gender']):\n",
        "    scores.append(avg_category_gender_eng[(x,y)])\n",
        "train['avg_category_gender_eng'] = scores\n",
        "\n",
        "\n",
        "scores = []\n",
        "for x,y in zip(test['category_id'],test['gender']):\n",
        "    scores.append(avg_category_gender_eng[(x,y)])\n",
        "test['avg_category_gender_eng'] = scores"
      ],
      "metadata": {
        "id": "qAiTo_1EA4ym"
      },
      "execution_count": null,
      "outputs": []
    },
    {
      "cell_type": "code",
      "source": [
        "avg_category_user_eng = train.groupby(['category_id','user_id'])['engagement_score'].mean().to_dict()\n",
        "scores = []\n",
        "for x,y in zip(train['category_id'],train['user_id']):\n",
        "    scores.append(avg_category_user_eng[(x,y)])\n",
        "train['avg_category_user_eng'] = scores\n",
        "\n",
        "\n",
        "scores = []\n",
        "for x,y in zip(test['category_id'],test['user_id']):\n",
        "    scores.append(avg_category_user_eng[(x,y)])\n",
        "test['avg_category_user_eng'] = scores\n",
        "\n",
        "\n",
        "avg_category_user_eng = train.groupby(['category_id','user_id'])['engagement_score'].max().to_dict()\n",
        "scores = []\n",
        "for x,y in zip(train['category_id'],train['user_id']):\n",
        "    scores.append(avg_category_user_eng[(x,y)])\n",
        "train['max_category_user_eng'] = scores\n",
        "\n",
        "\n",
        "scores = []\n",
        "for x,y in zip(test['category_id'],test['user_id']):\n",
        "    scores.append(avg_category_user_eng[(x,y)])\n",
        "test['max_category_user_eng'] = scores\n",
        "\n",
        "avg_category_user_eng = train.groupby(['category_id','user_id'])['engagement_score'].min().to_dict()\n",
        "scores = []\n",
        "for x,y in zip(train['category_id'],train['user_id']):\n",
        "    scores.append(avg_category_user_eng[(x,y)])\n",
        "train['min_category_user_eng'] = scores\n",
        "\n",
        "\n",
        "scores = []\n",
        "for x,y in zip(test['category_id'],test['user_id']):\n",
        "    scores.append(avg_category_user_eng[(x,y)])\n",
        "test['min_category_user_eng'] = scores"
      ],
      "metadata": {
        "id": "TCUjGNAKQxC_"
      },
      "execution_count": null,
      "outputs": []
    },
    {
      "cell_type": "code",
      "source": [
        "train['user_cat_eng_range_dif'] = train['max_category_user_eng'] - train['min_category_user_eng']\n",
        "test['user_cat_eng_range_dif'] = test['max_category_user_eng'] - test['min_category_user_eng']"
      ],
      "metadata": {
        "id": "V5yOrpOpDbAn"
      },
      "execution_count": null,
      "outputs": []
    },
    {
      "cell_type": "code",
      "source": [
        "avg_category_age_eng = train.groupby(['category_id','age'])['engagement_score'].mean().to_dict()\n",
        "scores = []\n",
        "for x,y in zip(train['category_id'],train['age']):\n",
        "    scores.append(avg_category_age_eng[(x,y)])\n",
        "train['avg_category_age_eng'] = scores\n",
        "\n",
        "\n",
        "scores = []\n",
        "for x,y in zip(test['category_id'],test['age']):\n",
        "    scores.append(avg_category_age_eng[(x,y)])\n",
        "test['avg_category_age_eng'] = scores"
      ],
      "metadata": {
        "id": "CEaNbZZwW78d"
      },
      "execution_count": null,
      "outputs": []
    },
    {
      "cell_type": "code",
      "source": [
        "avg_video_age_eng = train.groupby(['video_id','age'])['engagement_score'].mean().to_dict()\n",
        "scores = []\n",
        "for x,y in zip(train['video_id'],train['age']):\n",
        "    scores.append(avg_video_age_eng[(x,y)])\n",
        "train['avg_video_age_eng'] = scores\n",
        "\n",
        "\n",
        "scores = []\n",
        "for x,y in zip(test['video_id'],test['age']):\n",
        "    try:\n",
        "        scores.append(avg_video_age_eng[(x,y)])\n",
        "    except Exception:\n",
        "        scores.append(np.NaN)\n",
        "test['avg_video_age_eng'] = scores\n",
        "\n",
        "test['avg_video_age_eng'] = test['avg_video_age_eng'].fillna(np.mean(test['avg_video_age_eng']))\n",
        "test['avg_video_age_eng'] = test['avg_video_age_eng'].astype('float32')"
      ],
      "metadata": {
        "id": "O-JBZEQTrU5a"
      },
      "execution_count": null,
      "outputs": []
    },
    {
      "cell_type": "code",
      "source": [
        "avg_prof_age_eng = train.groupby(['profession','age'])['engagement_score'].mean().to_dict()\n",
        "scores = []\n",
        "for x,y in zip(train['profession'],train['age']):\n",
        "    scores.append(avg_prof_age_eng[(x,y)])\n",
        "train['avg_prof_age_eng'] = scores\n",
        "\n",
        "\n",
        "scores = []\n",
        "for x,y in zip(test['profession'],test['age']):\n",
        "    try:\n",
        "        scores.append(avg_prof_age_eng[(x,y)])\n",
        "    except Exception:\n",
        "        scores.append(np.NaN)\n",
        "test['avg_prof_age_eng'] = scores\n",
        "\n",
        "test['avg_prof_age_eng'] = test['avg_prof_age_eng'].fillna(np.mean(test['avg_prof_age_eng']))\n",
        "test['avg_prof_age_eng'] = test['avg_prof_age_eng'].astype('float32')"
      ],
      "metadata": {
        "id": "yEA0hJQCAmFK"
      },
      "execution_count": null,
      "outputs": []
    },
    {
      "cell_type": "code",
      "source": [
        "avg_video_gender_eng = train.groupby(['video_id','gender'])['engagement_score'].mean().to_dict()\n",
        "scores = []\n",
        "for x,y in zip(train['video_id'],train['gender']):\n",
        "    scores.append(avg_video_gender_eng[(x,y)])\n",
        "train['avg_video_gender_eng'] = scores\n",
        "\n",
        "\n",
        "scores = []\n",
        "for x,y in zip(test['video_id'],test['gender']):\n",
        "    scores.append(avg_video_gender_eng[(x,y)])\n",
        "test['avg_video_gender_eng'] = scores"
      ],
      "metadata": {
        "id": "L2NH9yBaHo06"
      },
      "execution_count": null,
      "outputs": []
    },
    {
      "cell_type": "code",
      "source": [
        "cat_gender_aud = train.groupby('category_id')['gender'].value_counts().to_dict()\n",
        "scores = []\n",
        "for x,y in zip(train['category_id'],train['gender']):\n",
        "    scores.append(cat_gender_aud[(x,y)])\n",
        "train['cat_gender_aud'] = scores\n",
        "\n",
        "\n",
        "scores = []\n",
        "for x,y in zip(test['category_id'],test['gender']):\n",
        "    scores.append(cat_gender_aud[(x,y)])\n",
        "test['cat_gender_aud'] = scores"
      ],
      "metadata": {
        "id": "4fCeJT82C3Wn"
      },
      "execution_count": null,
      "outputs": []
    },
    {
      "cell_type": "code",
      "source": [
        "train['gender']= train['gender'].apply(lambda x: 1 if x=='Female' else 0)\n",
        "test['gender']= test['gender'].apply(lambda x: 1 if x=='Female' else 0)"
      ],
      "metadata": {
        "id": "oWHbq73ADXAa"
      },
      "execution_count": null,
      "outputs": []
    },
    {
      "cell_type": "code",
      "source": [
        "train['views_per_follower'] = train['views']/train['followers']\n",
        "test['views_per_follower'] = test['views']/test['followers']"
      ],
      "metadata": {
        "id": "CSdIbZNKGO32"
      },
      "execution_count": null,
      "outputs": []
    },
    {
      "cell_type": "code",
      "source": [
        "train['user_number_of_cat'] = train['user_id'].map(train.groupby('user_id')['category_id'].nunique().to_dict())\n",
        "test['user_number_of_cat'] = test['user_id'].map(train.groupby('user_id')['category_id'].nunique().to_dict())"
      ],
      "metadata": {
        "id": "GAtuyiLK-1yv"
      },
      "execution_count": null,
      "outputs": []
    },
    {
      "cell_type": "code",
      "source": [
        "train['is_below18'] = train['age'].apply(lambda x: 1 if x<18 else 0)\n",
        "test['is_below18'] = test['age'].apply(lambda x: 1 if x<18 else 0)"
      ],
      "metadata": {
        "id": "cUGl0pUdEFtY"
      },
      "execution_count": null,
      "outputs": []
    },
    {
      "cell_type": "code",
      "source": [
        "train['avg_video_eng'] = train['video_id'].map(train.groupby('video_id')['engagement_score'].mean().to_dict())\n",
        "test['avg_video_eng'] = test['video_id'].map(train.groupby('video_id')['engagement_score'].mean().to_dict())"
      ],
      "metadata": {
        "id": "G7wD5w_eDFq_"
      },
      "execution_count": null,
      "outputs": []
    },
    {
      "cell_type": "code",
      "source": [
        "train['expected_avg_user_eng'] = (train['avg_cat_eng'] + train['avg_prof_eng']+ train['avg_gender_eng']+ train['avg_user_eng']+ train['avg_category_prof_eng']+train['avg_category_gender_eng']+train['avg_category_user_eng']+train['avg_category_age_eng']+train['avg_user_gender_eng']+train['avg_video_cat_eng']+train['avg_video_gender_eng'] + train['avg_video_eng'])/12  \n",
        "test['expected_avg_user_eng'] = (test['avg_cat_eng'] + test['avg_prof_eng']+ test['avg_gender_eng']+ test['avg_user_eng']+ test['avg_category_prof_eng']+test['avg_category_gender_eng']+test['avg_category_user_eng']+test['avg_category_age_eng']+test['avg_user_gender_eng']+test['avg_video_cat_eng']+test['avg_video_gender_eng'] + test['avg_video_eng'])/12\n",
        "                                               "
      ],
      "metadata": {
        "id": "0MZLEFM5NU0h"
      },
      "execution_count": null,
      "outputs": []
    },
    {
      "cell_type": "code",
      "source": [
        "train.drop_duplicates(subset='user_id', keep='first', inplace=True)"
      ],
      "metadata": {
        "id": "Cg97Uvbn7pb_"
      },
      "execution_count": null,
      "outputs": []
    },
    {
      "cell_type": "code",
      "source": [
        "train = pd.get_dummies(train)\n",
        "test = pd.get_dummies(test)"
      ],
      "metadata": {
        "id": "jiIgyhCyEWoV"
      },
      "execution_count": null,
      "outputs": []
    },
    {
      "cell_type": "code",
      "source": [
        "train = train[['engagement_score', 'avg_category_user_eng', 'min_category_user_eng',\n",
        "       'max_category_user_eng', 'expected_avg_user_eng', 'avg_user_eng',\n",
        "       'avg_user_gender_eng', 'avg_video_gender_eng',\n",
        "       'avg_category_gender_eng', 'avg_video_age_eng', 'avg_category_prof_eng',\n",
        "       'avg_category_age_eng', 'avg_gender_eng', 'gender',\n",
        "       'avg_video_cat_eng']]\n",
        "\n",
        "test= test[['avg_category_user_eng', 'min_category_user_eng',\n",
        "       'max_category_user_eng', 'expected_avg_user_eng', 'avg_user_eng',\n",
        "       'avg_user_gender_eng', 'avg_video_gender_eng',\n",
        "       'avg_category_gender_eng', 'avg_video_age_eng', 'avg_category_prof_eng',\n",
        "       'avg_category_age_eng', 'avg_gender_eng', 'gender',\n",
        "       'avg_video_cat_eng']]"
      ],
      "metadata": {
        "id": "aLbaUKpcEh4x"
      },
      "execution_count": null,
      "outputs": []
    },
    {
      "cell_type": "markdown",
      "source": [
        "# Models"
      ],
      "metadata": {
        "id": "rIzac-PkHw5P"
      }
    },
    {
      "cell_type": "code",
      "source": [
        "train1, val = train_test_split(train, test_size=0.2, random_state=0)"
      ],
      "metadata": {
        "id": "-n_rcHzKHys9"
      },
      "execution_count": null,
      "outputs": []
    },
    {
      "cell_type": "code",
      "source": [
        "x_train = train1.drop('engagement_score', axis=1)\n",
        "y_train = train1['engagement_score']\n",
        "\n",
        "x_val = val.drop('engagement_score', axis=1)\n",
        "y_val = val['engagement_score']"
      ],
      "metadata": {
        "id": "JSvAsNdCIRGG"
      },
      "execution_count": null,
      "outputs": []
    },
    {
      "cell_type": "code",
      "source": [
        "scaler = StandardScaler()\n",
        "x_train= scaler.fit_transform(x_train)\n",
        "x_val = scaler.transform(x_val)\n",
        "test = scaler.transform(test)"
      ],
      "metadata": {
        "id": "MFLqd7DmCRYW",
        "colab": {
          "base_uri": "https://localhost:8080/"
        },
        "outputId": "910a6759-bc92-44da-a105-4783202d887c"
      },
      "execution_count": null,
      "outputs": [
        {
          "output_type": "stream",
          "name": "stderr",
          "text": [
            "/usr/local/lib/python3.7/dist-packages/sklearn/base.py:451: UserWarning: X does not have valid feature names, but StandardScaler was fitted with feature names\n",
            "  \"X does not have valid feature names, but\"\n"
          ]
        }
      ]
    },
    {
      "cell_type": "code",
      "source": [
        "def build_models(X,y):\n",
        "    models={}\n",
        "    training_times = {}\n",
        "    \n",
        "    # Linear Regression    \n",
        "    lr = LinearRegression()\n",
        "    start_time = time.time()\n",
        "    lr.fit(X,y)\n",
        "    elapsed_time_secs = timedelta(seconds=round(time.time() - start_time))\n",
        "    models.update({\"Linear Regression\":lr})\n",
        "    training_times.update({\"Linear Regression\":elapsed_time_secs.seconds})\n",
        "\n",
        "    # SGD Regression    \n",
        "    SGD = SGDRegressor(early_stopping=True)\n",
        "    start_time = time.time()\n",
        "    SGD.fit(X,y)\n",
        "    elapsed_time_secs = timedelta(seconds=round(time.time() - start_time))\n",
        "    models.update({\"SGD\":SGD})\n",
        "    training_times.update({\"SGD\":elapsed_time_secs.seconds})\n",
        "\n",
        "    # GB Regression    \n",
        "    GB = GradientBoostingRegressor()\n",
        "    start_time = time.time()\n",
        "    GB.fit(X,y)\n",
        "    elapsed_time_secs = timedelta(seconds=round(time.time() - start_time))\n",
        "    models.update({\"GB\":GB})\n",
        "    training_times.update({\"GB\":elapsed_time_secs.seconds})\n",
        "\n",
        "    # Ridge\n",
        "    ridge = Ridge(alpha=0.5)\n",
        "    start_time = time.time()\n",
        "    ridge.fit(X,y)\n",
        "    elapsed_time_secs = timedelta(seconds=round(time.time() - start_time))\n",
        "    models.update({\"Ridge\":ridge})\n",
        "    training_times.update({\"Ridge\":elapsed_time_secs.seconds})\n",
        "    \n",
        "    # XGBoost\n",
        "    xg = XGBRegressor()\n",
        "    start_time = time.time()\n",
        "    xg.fit(X,y)\n",
        "    elapsed_time_secs = timedelta(seconds=round(time.time() - start_time))\n",
        "    models.update({\"XG Boost\":xg})\n",
        "    training_times.update({\"XG Boost\":elapsed_time_secs.seconds})\n",
        "    \n",
        "\n",
        "\n",
        "def model_evaluation(models, X_test, y_test, training_dur=None, nn=False):\n",
        "    scores={}  \n",
        "    class_wise_accuracy = {}\n",
        "\n",
        "    for model in models:\n",
        "        if nn:\n",
        "            pred = model.predict(X_test)\n",
        "        else:\n",
        "            pred = models[model].predict(X_test)\n",
        "\n",
        "\n",
        "        EVS = explained_variance_score(y_test, pred)\n",
        "        R2_Score = r2_score(y_test,pred)\n",
        "        neg_MAG = mean_absolute_error(y_test, pred)\n",
        "        neg_MSE = mean_squared_error(y_test, pred)\n",
        "        neg_RMSE = np.sqrt(mean_squared_error(y_test, pred))\n",
        "\n",
        "\n",
        "\n",
        "        #roc_auc = roc_auc_score(y_test, pred, , average='macro')\n",
        "\n",
        "        scores.update({model:[EVS,R2_Score,neg_MAG,neg_MSE,neg_RMSE]})\n",
        "\n",
        "    metric_df = pd.DataFrame(scores, index=[\"EVS\",\"R2 Score\",\"Neg MAG\",\"Neg MSE\", \"Neg RMSE\"]).T\n",
        "    metric_and_training_dur = pd.merge(metric_df,training_dur, left_index=True, right_index=True)\n",
        "\n",
        "    final_df = metric_and_training_dur\n",
        "\n",
        "    return final_df"
      ],
      "metadata": {
        "id": "cnBM9II9ISqu"
      },
      "execution_count": null,
      "outputs": []
    },
    {
      "cell_type": "code",
      "source": [
        "models, training_dur = build_models(x_train, y_train)"
      ],
      "metadata": {
        "colab": {
          "base_uri": "https://localhost:8080/"
        },
        "id": "U_m3EJfJJnrl",
        "outputId": "f960f1e4-57ff-4065-bbd8-0fadce6a366e"
      },
      "execution_count": null,
      "outputs": [
        {
          "output_type": "stream",
          "name": "stdout",
          "text": [
            "[17:17:21] WARNING: /workspace/src/objective/regression_obj.cu:152: reg:linear is now deprecated in favor of reg:squarederror.\n",
            "[17:17:27] WARNING: /workspace/src/objective/regression_obj.cu:152: reg:linear is now deprecated in favor of reg:squarederror.\n"
          ]
        }
      ]
    },
    {
      "cell_type": "code",
      "source": [
        "models"
      ],
      "metadata": {
        "colab": {
          "base_uri": "https://localhost:8080/"
        },
        "id": "G7U5P_lNJ1sp",
        "outputId": "241243d1-6e11-488e-ed73-7e3c23d2da3a"
      },
      "execution_count": null,
      "outputs": [
        {
          "output_type": "execute_result",
          "data": {
            "text/plain": [
              "{'Elastic Net': ElasticNet(),\n",
              " 'GB': GradientBoostingRegressor(),\n",
              " 'Linear Regression': LinearRegression(),\n",
              " 'Random Forest': RandomForestRegressor(),\n",
              " 'Ridge': Ridge(alpha=0.5),\n",
              " 'SGD': SGDRegressor(early_stopping=True),\n",
              " 'XG Boost': XGBRegressor(),\n",
              " 'XG Random Forest': XGBRFRegressor()}"
            ]
          },
          "metadata": {},
          "execution_count": 836
        }
      ]
    },
    {
      "cell_type": "code",
      "source": [
        "model_evaluation(models, x_val, y_val, training_dur)"
      ],
      "metadata": {
        "colab": {
          "base_uri": "https://localhost:8080/",
          "height": 300
        },
        "id": "ntn_5jsPJ-6M",
        "outputId": "0154eae4-173d-445c-92d1-6f1dd7933b25"
      },
      "execution_count": null,
      "outputs": [
        {
          "output_type": "execute_result",
          "data": {
            "text/html": [
              "\n",
              "  <div id=\"df-4d624bc8-f041-4e19-9a4c-f19c2bbe461f\">\n",
              "    <div class=\"colab-df-container\">\n",
              "      <div>\n",
              "<style scoped>\n",
              "    .dataframe tbody tr th:only-of-type {\n",
              "        vertical-align: middle;\n",
              "    }\n",
              "\n",
              "    .dataframe tbody tr th {\n",
              "        vertical-align: top;\n",
              "    }\n",
              "\n",
              "    .dataframe thead th {\n",
              "        text-align: right;\n",
              "    }\n",
              "</style>\n",
              "<table border=\"1\" class=\"dataframe\">\n",
              "  <thead>\n",
              "    <tr style=\"text-align: right;\">\n",
              "      <th></th>\n",
              "      <th>EVS</th>\n",
              "      <th>R2 Score</th>\n",
              "      <th>Neg MAG</th>\n",
              "      <th>Neg MSE</th>\n",
              "      <th>Neg RMSE</th>\n",
              "      <th>Training Time</th>\n",
              "    </tr>\n",
              "  </thead>\n",
              "  <tbody>\n",
              "    <tr>\n",
              "      <th>Linear Regression</th>\n",
              "      <td>0.365403</td>\n",
              "      <td>-14.773794</td>\n",
              "      <td>3.392402</td>\n",
              "      <td>11.990796</td>\n",
              "      <td>3.462773</td>\n",
              "      <td>0</td>\n",
              "    </tr>\n",
              "    <tr>\n",
              "      <th>SGD</th>\n",
              "      <td>-0.012511</td>\n",
              "      <td>-18.768757</td>\n",
              "      <td>3.775973</td>\n",
              "      <td>15.027655</td>\n",
              "      <td>3.876552</td>\n",
              "      <td>0</td>\n",
              "    </tr>\n",
              "    <tr>\n",
              "      <th>GB</th>\n",
              "      <td>0.496550</td>\n",
              "      <td>-12.509782</td>\n",
              "      <td>3.144382</td>\n",
              "      <td>10.269757</td>\n",
              "      <td>3.204646</td>\n",
              "      <td>25</td>\n",
              "    </tr>\n",
              "    <tr>\n",
              "      <th>Ridge</th>\n",
              "      <td>0.335228</td>\n",
              "      <td>-15.033043</td>\n",
              "      <td>3.417971</td>\n",
              "      <td>12.187870</td>\n",
              "      <td>3.491113</td>\n",
              "      <td>0</td>\n",
              "    </tr>\n",
              "    <tr>\n",
              "      <th>Elastic Net</th>\n",
              "      <td>0.538795</td>\n",
              "      <td>-0.950822</td>\n",
              "      <td>1.102769</td>\n",
              "      <td>1.482960</td>\n",
              "      <td>1.217769</td>\n",
              "      <td>0</td>\n",
              "    </tr>\n",
              "    <tr>\n",
              "      <th>XG Boost</th>\n",
              "      <td>0.496521</td>\n",
              "      <td>-12.500094</td>\n",
              "      <td>3.143193</td>\n",
              "      <td>10.262393</td>\n",
              "      <td>3.203497</td>\n",
              "      <td>6</td>\n",
              "    </tr>\n",
              "    <tr>\n",
              "      <th>XG Random Forest</th>\n",
              "      <td>0.056263</td>\n",
              "      <td>-7.768488</td>\n",
              "      <td>2.451749</td>\n",
              "      <td>6.665559</td>\n",
              "      <td>2.581774</td>\n",
              "      <td>4</td>\n",
              "    </tr>\n",
              "    <tr>\n",
              "      <th>Random Forest</th>\n",
              "      <td>0.471597</td>\n",
              "      <td>-12.537585</td>\n",
              "      <td>3.144765</td>\n",
              "      <td>10.290892</td>\n",
              "      <td>3.207942</td>\n",
              "      <td>116</td>\n",
              "    </tr>\n",
              "  </tbody>\n",
              "</table>\n",
              "</div>\n",
              "      <button class=\"colab-df-convert\" onclick=\"convertToInteractive('df-4d624bc8-f041-4e19-9a4c-f19c2bbe461f')\"\n",
              "              title=\"Convert this dataframe to an interactive table.\"\n",
              "              style=\"display:none;\">\n",
              "        \n",
              "  <svg xmlns=\"http://www.w3.org/2000/svg\" height=\"24px\"viewBox=\"0 0 24 24\"\n",
              "       width=\"24px\">\n",
              "    <path d=\"M0 0h24v24H0V0z\" fill=\"none\"/>\n",
              "    <path d=\"M18.56 5.44l.94 2.06.94-2.06 2.06-.94-2.06-.94-.94-2.06-.94 2.06-2.06.94zm-11 1L8.5 8.5l.94-2.06 2.06-.94-2.06-.94L8.5 2.5l-.94 2.06-2.06.94zm10 10l.94 2.06.94-2.06 2.06-.94-2.06-.94-.94-2.06-.94 2.06-2.06.94z\"/><path d=\"M17.41 7.96l-1.37-1.37c-.4-.4-.92-.59-1.43-.59-.52 0-1.04.2-1.43.59L10.3 9.45l-7.72 7.72c-.78.78-.78 2.05 0 2.83L4 21.41c.39.39.9.59 1.41.59.51 0 1.02-.2 1.41-.59l7.78-7.78 2.81-2.81c.8-.78.8-2.07 0-2.86zM5.41 20L4 18.59l7.72-7.72 1.47 1.35L5.41 20z\"/>\n",
              "  </svg>\n",
              "      </button>\n",
              "      \n",
              "  <style>\n",
              "    .colab-df-container {\n",
              "      display:flex;\n",
              "      flex-wrap:wrap;\n",
              "      gap: 12px;\n",
              "    }\n",
              "\n",
              "    .colab-df-convert {\n",
              "      background-color: #E8F0FE;\n",
              "      border: none;\n",
              "      border-radius: 50%;\n",
              "      cursor: pointer;\n",
              "      display: none;\n",
              "      fill: #1967D2;\n",
              "      height: 32px;\n",
              "      padding: 0 0 0 0;\n",
              "      width: 32px;\n",
              "    }\n",
              "\n",
              "    .colab-df-convert:hover {\n",
              "      background-color: #E2EBFA;\n",
              "      box-shadow: 0px 1px 2px rgba(60, 64, 67, 0.3), 0px 1px 3px 1px rgba(60, 64, 67, 0.15);\n",
              "      fill: #174EA6;\n",
              "    }\n",
              "\n",
              "    [theme=dark] .colab-df-convert {\n",
              "      background-color: #3B4455;\n",
              "      fill: #D2E3FC;\n",
              "    }\n",
              "\n",
              "    [theme=dark] .colab-df-convert:hover {\n",
              "      background-color: #434B5C;\n",
              "      box-shadow: 0px 1px 3px 1px rgba(0, 0, 0, 0.15);\n",
              "      filter: drop-shadow(0px 1px 2px rgba(0, 0, 0, 0.3));\n",
              "      fill: #FFFFFF;\n",
              "    }\n",
              "  </style>\n",
              "\n",
              "      <script>\n",
              "        const buttonEl =\n",
              "          document.querySelector('#df-4d624bc8-f041-4e19-9a4c-f19c2bbe461f button.colab-df-convert');\n",
              "        buttonEl.style.display =\n",
              "          google.colab.kernel.accessAllowed ? 'block' : 'none';\n",
              "\n",
              "        async function convertToInteractive(key) {\n",
              "          const element = document.querySelector('#df-4d624bc8-f041-4e19-9a4c-f19c2bbe461f');\n",
              "          const dataTable =\n",
              "            await google.colab.kernel.invokeFunction('convertToInteractive',\n",
              "                                                     [key], {});\n",
              "          if (!dataTable) return;\n",
              "\n",
              "          const docLinkHtml = 'Like what you see? Visit the ' +\n",
              "            '<a target=\"_blank\" href=https://colab.research.google.com/notebooks/data_table.ipynb>data table notebook</a>'\n",
              "            + ' to learn more about interactive tables.';\n",
              "          element.innerHTML = '';\n",
              "          dataTable['output_type'] = 'display_data';\n",
              "          await google.colab.output.renderOutput(dataTable, element);\n",
              "          const docLink = document.createElement('div');\n",
              "          docLink.innerHTML = docLinkHtml;\n",
              "          element.appendChild(docLink);\n",
              "        }\n",
              "      </script>\n",
              "    </div>\n",
              "  </div>\n",
              "  "
            ],
            "text/plain": [
              "                        EVS   R2 Score  ...  Neg RMSE  Training Time\n",
              "Linear Regression  0.365403 -14.773794  ...  3.462773              0\n",
              "SGD               -0.012511 -18.768757  ...  3.876552              0\n",
              "GB                 0.496550 -12.509782  ...  3.204646             25\n",
              "Ridge              0.335228 -15.033043  ...  3.491113              0\n",
              "Elastic Net        0.538795  -0.950822  ...  1.217769              0\n",
              "XG Boost           0.496521 -12.500094  ...  3.203497              6\n",
              "XG Random Forest   0.056263  -7.768488  ...  2.581774              4\n",
              "Random Forest      0.471597 -12.537585  ...  3.207942            116\n",
              "\n",
              "[8 rows x 6 columns]"
            ]
          },
          "metadata": {},
          "execution_count": 837
        }
      ]
    },
    {
      "cell_type": "code",
      "source": [
        "submisson = pd.read_csv('/content/sample_submission_JPlpRcN.csv')"
      ],
      "metadata": {
        "id": "mR-I6CIMOqnT"
      },
      "execution_count": null,
      "outputs": []
    },
    {
      "cell_type": "code",
      "source": [
        "submisson"
      ],
      "metadata": {
        "colab": {
          "base_uri": "https://localhost:8080/",
          "height": 424
        },
        "id": "EfFV478VTPqz",
        "outputId": "f85a27b0-75de-4252-ad8e-92a61c33a68d"
      },
      "execution_count": null,
      "outputs": [
        {
          "output_type": "execute_result",
          "data": {
            "text/html": [
              "\n",
              "  <div id=\"df-9f636016-0523-486b-8b5b-d7023d64cdc7\">\n",
              "    <div class=\"colab-df-container\">\n",
              "      <div>\n",
              "<style scoped>\n",
              "    .dataframe tbody tr th:only-of-type {\n",
              "        vertical-align: middle;\n",
              "    }\n",
              "\n",
              "    .dataframe tbody tr th {\n",
              "        vertical-align: top;\n",
              "    }\n",
              "\n",
              "    .dataframe thead th {\n",
              "        text-align: right;\n",
              "    }\n",
              "</style>\n",
              "<table border=\"1\" class=\"dataframe\">\n",
              "  <thead>\n",
              "    <tr style=\"text-align: right;\">\n",
              "      <th></th>\n",
              "      <th>row_id</th>\n",
              "      <th>engagement_score</th>\n",
              "    </tr>\n",
              "  </thead>\n",
              "  <tbody>\n",
              "    <tr>\n",
              "      <th>0</th>\n",
              "      <td>89198</td>\n",
              "      <td>5.0</td>\n",
              "    </tr>\n",
              "    <tr>\n",
              "      <th>1</th>\n",
              "      <td>89199</td>\n",
              "      <td>5.0</td>\n",
              "    </tr>\n",
              "    <tr>\n",
              "      <th>2</th>\n",
              "      <td>89200</td>\n",
              "      <td>5.0</td>\n",
              "    </tr>\n",
              "    <tr>\n",
              "      <th>3</th>\n",
              "      <td>89201</td>\n",
              "      <td>5.0</td>\n",
              "    </tr>\n",
              "    <tr>\n",
              "      <th>4</th>\n",
              "      <td>89202</td>\n",
              "      <td>5.0</td>\n",
              "    </tr>\n",
              "    <tr>\n",
              "      <th>...</th>\n",
              "      <td>...</td>\n",
              "      <td>...</td>\n",
              "    </tr>\n",
              "    <tr>\n",
              "      <th>11116</th>\n",
              "      <td>100314</td>\n",
              "      <td>5.0</td>\n",
              "    </tr>\n",
              "    <tr>\n",
              "      <th>11117</th>\n",
              "      <td>100315</td>\n",
              "      <td>5.0</td>\n",
              "    </tr>\n",
              "    <tr>\n",
              "      <th>11118</th>\n",
              "      <td>100316</td>\n",
              "      <td>5.0</td>\n",
              "    </tr>\n",
              "    <tr>\n",
              "      <th>11119</th>\n",
              "      <td>100317</td>\n",
              "      <td>5.0</td>\n",
              "    </tr>\n",
              "    <tr>\n",
              "      <th>11120</th>\n",
              "      <td>100318</td>\n",
              "      <td>5.0</td>\n",
              "    </tr>\n",
              "  </tbody>\n",
              "</table>\n",
              "<p>11121 rows × 2 columns</p>\n",
              "</div>\n",
              "      <button class=\"colab-df-convert\" onclick=\"convertToInteractive('df-9f636016-0523-486b-8b5b-d7023d64cdc7')\"\n",
              "              title=\"Convert this dataframe to an interactive table.\"\n",
              "              style=\"display:none;\">\n",
              "        \n",
              "  <svg xmlns=\"http://www.w3.org/2000/svg\" height=\"24px\"viewBox=\"0 0 24 24\"\n",
              "       width=\"24px\">\n",
              "    <path d=\"M0 0h24v24H0V0z\" fill=\"none\"/>\n",
              "    <path d=\"M18.56 5.44l.94 2.06.94-2.06 2.06-.94-2.06-.94-.94-2.06-.94 2.06-2.06.94zm-11 1L8.5 8.5l.94-2.06 2.06-.94-2.06-.94L8.5 2.5l-.94 2.06-2.06.94zm10 10l.94 2.06.94-2.06 2.06-.94-2.06-.94-.94-2.06-.94 2.06-2.06.94z\"/><path d=\"M17.41 7.96l-1.37-1.37c-.4-.4-.92-.59-1.43-.59-.52 0-1.04.2-1.43.59L10.3 9.45l-7.72 7.72c-.78.78-.78 2.05 0 2.83L4 21.41c.39.39.9.59 1.41.59.51 0 1.02-.2 1.41-.59l7.78-7.78 2.81-2.81c.8-.78.8-2.07 0-2.86zM5.41 20L4 18.59l7.72-7.72 1.47 1.35L5.41 20z\"/>\n",
              "  </svg>\n",
              "      </button>\n",
              "      \n",
              "  <style>\n",
              "    .colab-df-container {\n",
              "      display:flex;\n",
              "      flex-wrap:wrap;\n",
              "      gap: 12px;\n",
              "    }\n",
              "\n",
              "    .colab-df-convert {\n",
              "      background-color: #E8F0FE;\n",
              "      border: none;\n",
              "      border-radius: 50%;\n",
              "      cursor: pointer;\n",
              "      display: none;\n",
              "      fill: #1967D2;\n",
              "      height: 32px;\n",
              "      padding: 0 0 0 0;\n",
              "      width: 32px;\n",
              "    }\n",
              "\n",
              "    .colab-df-convert:hover {\n",
              "      background-color: #E2EBFA;\n",
              "      box-shadow: 0px 1px 2px rgba(60, 64, 67, 0.3), 0px 1px 3px 1px rgba(60, 64, 67, 0.15);\n",
              "      fill: #174EA6;\n",
              "    }\n",
              "\n",
              "    [theme=dark] .colab-df-convert {\n",
              "      background-color: #3B4455;\n",
              "      fill: #D2E3FC;\n",
              "    }\n",
              "\n",
              "    [theme=dark] .colab-df-convert:hover {\n",
              "      background-color: #434B5C;\n",
              "      box-shadow: 0px 1px 3px 1px rgba(0, 0, 0, 0.15);\n",
              "      filter: drop-shadow(0px 1px 2px rgba(0, 0, 0, 0.3));\n",
              "      fill: #FFFFFF;\n",
              "    }\n",
              "  </style>\n",
              "\n",
              "      <script>\n",
              "        const buttonEl =\n",
              "          document.querySelector('#df-9f636016-0523-486b-8b5b-d7023d64cdc7 button.colab-df-convert');\n",
              "        buttonEl.style.display =\n",
              "          google.colab.kernel.accessAllowed ? 'block' : 'none';\n",
              "\n",
              "        async function convertToInteractive(key) {\n",
              "          const element = document.querySelector('#df-9f636016-0523-486b-8b5b-d7023d64cdc7');\n",
              "          const dataTable =\n",
              "            await google.colab.kernel.invokeFunction('convertToInteractive',\n",
              "                                                     [key], {});\n",
              "          if (!dataTable) return;\n",
              "\n",
              "          const docLinkHtml = 'Like what you see? Visit the ' +\n",
              "            '<a target=\"_blank\" href=https://colab.research.google.com/notebooks/data_table.ipynb>data table notebook</a>'\n",
              "            + ' to learn more about interactive tables.';\n",
              "          element.innerHTML = '';\n",
              "          dataTable['output_type'] = 'display_data';\n",
              "          await google.colab.output.renderOutput(dataTable, element);\n",
              "          const docLink = document.createElement('div');\n",
              "          docLink.innerHTML = docLinkHtml;\n",
              "          element.appendChild(docLink);\n",
              "        }\n",
              "      </script>\n",
              "    </div>\n",
              "  </div>\n",
              "  "
            ],
            "text/plain": [
              "       row_id  engagement_score\n",
              "0       89198               5.0\n",
              "1       89199               5.0\n",
              "2       89200               5.0\n",
              "3       89201               5.0\n",
              "4       89202               5.0\n",
              "...       ...               ...\n",
              "11116  100314               5.0\n",
              "11117  100315               5.0\n",
              "11118  100316               5.0\n",
              "11119  100317               5.0\n",
              "11120  100318               5.0\n",
              "\n",
              "[11121 rows x 2 columns]"
            ]
          },
          "metadata": {},
          "execution_count": 839
        }
      ]
    },
    {
      "cell_type": "code",
      "source": [
        "#submisson['engagement_score'] = test_copy['pred']\n",
        "submisson['engagement_score'] = models['SGD'].predict(test)\n"
      ],
      "metadata": {
        "id": "a7mHBjFCTtZz"
      },
      "execution_count": null,
      "outputs": []
    },
    {
      "cell_type": "code",
      "source": [
        "submisson.to_csv('submission_1.csv',index=False)"
      ],
      "metadata": {
        "id": "d_Hx3L1oULKT"
      },
      "execution_count": null,
      "outputs": []
    },
    {
      "cell_type": "code",
      "source": [
        "filename = 'SGD 48.sav'\n",
        "pickle.dump(models['SGD'], open(filename, 'wb'))"
      ],
      "metadata": {
        "id": "DnTNkzPixLxg"
      },
      "execution_count": null,
      "outputs": []
    },
    {
      "cell_type": "code",
      "source": [
        ""
      ],
      "metadata": {
        "id": "zoElVeOsIRPc"
      },
      "execution_count": null,
      "outputs": []
    }
  ]
}